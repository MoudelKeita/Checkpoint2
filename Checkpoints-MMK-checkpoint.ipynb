{
 "cells": [
  {
   "cell_type": "code",
   "execution_count": 68,
   "id": "3a2be87f",
   "metadata": {},
   "outputs": [
    {
     "name": "stdout",
     "output_type": "stream",
     "text": [
      "2007\n",
      "2014\n",
      "2021\n",
      "2028\n",
      "2042\n",
      "2049\n",
      "2056\n",
      "2063\n",
      "2077\n",
      "2084\n",
      "2091\n",
      "2098\n",
      "2112\n",
      "2119\n",
      "2126\n",
      "2133\n",
      "2147\n",
      "2154\n",
      "2161\n",
      "2168\n",
      "2182\n",
      "2189\n",
      "2196\n",
      "2203\n",
      "2217\n",
      "2224\n",
      "2231\n",
      "2238\n",
      "2252\n",
      "2259\n",
      "2266\n",
      "2273\n",
      "2287\n",
      "2294\n",
      "2301\n",
      "2308\n",
      "2322\n",
      "2329\n",
      "2336\n",
      "2343\n",
      "2357\n",
      "2364\n",
      "2371\n",
      "2378\n",
      "2392\n",
      "2399\n",
      "2406\n",
      "2413\n",
      "2427\n",
      "2434\n",
      "2441\n",
      "2448\n",
      "2462\n",
      "2469\n",
      "2476\n",
      "2483\n",
      "2497\n",
      "2504\n",
      "2511\n",
      "2518\n",
      "2532\n",
      "2539\n",
      "2546\n",
      "2553\n",
      "2567\n",
      "2574\n",
      "2581\n",
      "2588\n",
      "2602\n",
      "2609\n",
      "2616\n",
      "2623\n",
      "2637\n",
      "2644\n",
      "2651\n",
      "2658\n",
      "2672\n",
      "2679\n",
      "2686\n",
      "2693\n",
      "2707\n",
      "2714\n",
      "2721\n",
      "2728\n",
      "2742\n",
      "2749\n",
      "2756\n",
      "2763\n",
      "2777\n",
      "2784\n",
      "2791\n",
      "2798\n",
      "2812\n",
      "2819\n",
      "2826\n",
      "2833\n",
      "2847\n",
      "2854\n",
      "2861\n",
      "2868\n",
      "2882\n",
      "2889\n",
      "2896\n",
      "2903\n",
      "2917\n",
      "2924\n",
      "2931\n",
      "2938\n",
      "2952\n",
      "2959\n",
      "2966\n",
      "2973\n",
      "2987\n",
      "2994\n",
      "3001\n",
      "3008\n",
      "3022\n",
      "3029\n",
      "3036\n",
      "3043\n",
      "3057\n",
      "3064\n",
      "3071\n",
      "3078\n",
      "3092\n",
      "3099\n",
      "3106\n",
      "3113\n",
      "3127\n",
      "3134\n",
      "3141\n",
      "3148\n",
      "3162\n",
      "3169\n",
      "3176\n",
      "3183\n",
      "3197\n"
     ]
    }
   ],
   "source": [
    "for x in range(2000,3201,7):\n",
    "    if x%5!=0:\n",
    "        print(x)\n",
    "    "
   ]
  },
  {
   "cell_type": "code",
   "execution_count": 289,
   "id": "08fb8887",
   "metadata": {},
   "outputs": [
    {
     "name": "stdout",
     "output_type": "stream",
     "text": [
      "Donner la valeur de a  :  5\n",
      "Le factoriel de  5  est : 5 ! = 120\n"
     ]
    }
   ],
   "source": [
    "a=eval(input(\"Donner la valeur de a  :  \"))\n",
    "x=a\n",
    "if x>=0:\n",
    "    for i in range(1,x):\n",
    "            x=x*i\n",
    "            i=i+1\n",
    "    print(\"Le factoriel de \", a, \" est :\",a,\"! =\", x)\n",
    "else:\n",
    "    print(a, \" n'est pas un entier\")"
   ]
  },
  {
   "cell_type": "markdown",
   "id": "3b7d414c",
   "metadata": {},
   "source": []
  },
  {
   "cell_type": "code",
   "execution_count": 246,
   "id": "7b17d232",
   "metadata": {},
   "outputs": [
    {
     "name": "stdout",
     "output_type": "stream",
     "text": [
      "Donner un nombre 8\n",
      "{1: 1, 2: 4, 3: 9, 4: 16, 5: 25, 6: 36, 7: 49, 8: 64}\n"
     ]
    }
   ],
   "source": [
    "n=eval(input(\"Donner un nombre \"))\n",
    "Mydict={}\n",
    "for k in range(1,n+1):\n",
    "    Mydict[k]=k*k\n",
    "print(Mydict)"
   ]
  },
  {
   "cell_type": "code",
   "execution_count": 333,
   "id": "f6ec14fc",
   "metadata": {},
   "outputs": [
    {
     "name": "stdout",
     "output_type": "stream",
     "text": [
      "Donner une chaine de caractères non vide\n",
      "gfghkfghfv\n",
      "10\n",
      "Donner la position du caractère à supprimer  4\n"
     ]
    },
    {
     "ename": "TypeError",
     "evalue": "'str' object doesn't support item deletion",
     "output_type": "error",
     "traceback": [
      "\u001b[1;31m---------------------------------------------------------------------------\u001b[0m",
      "\u001b[1;31mTypeError\u001b[0m                                 Traceback (most recent call last)",
      "\u001b[1;32m<ipython-input-333-91ddfad43ae4>\u001b[0m in \u001b[0;36m<module>\u001b[1;34m\u001b[0m\n\u001b[0;32m      5\u001b[0m \u001b[1;32mif\u001b[0m \u001b[0mlen\u001b[0m\u001b[1;33m(\u001b[0m\u001b[0mCH\u001b[0m\u001b[1;33m)\u001b[0m\u001b[1;33m>\u001b[0m\u001b[1;36m1\u001b[0m\u001b[1;33m:\u001b[0m\u001b[1;33m\u001b[0m\u001b[1;33m\u001b[0m\u001b[0m\n\u001b[0;32m      6\u001b[0m     \u001b[0mn\u001b[0m\u001b[1;33m=\u001b[0m\u001b[0meval\u001b[0m\u001b[1;33m(\u001b[0m\u001b[0minput\u001b[0m\u001b[1;33m(\u001b[0m\u001b[1;34m\"Donner la position du caractère à supprimer  \"\u001b[0m\u001b[1;33m,\u001b[0m\u001b[1;33m)\u001b[0m\u001b[1;33m)\u001b[0m\u001b[1;33m\u001b[0m\u001b[1;33m\u001b[0m\u001b[0m\n\u001b[1;32m----> 7\u001b[1;33m     \u001b[1;32mdel\u001b[0m \u001b[0mCH\u001b[0m\u001b[1;33m[\u001b[0m\u001b[0mn\u001b[0m\u001b[1;33m]\u001b[0m\u001b[1;33m\u001b[0m\u001b[1;33m\u001b[0m\u001b[0m\n\u001b[0m\u001b[0;32m      8\u001b[0m     \u001b[0mprint\u001b[0m\u001b[1;33m(\u001b[0m\u001b[1;34m\" Veuillez saisir une chaine de caractères non vide svp\"\u001b[0m\u001b[1;33m)\u001b[0m\u001b[1;33m\u001b[0m\u001b[1;33m\u001b[0m\u001b[0m\n\u001b[0;32m      9\u001b[0m \u001b[1;32melse\u001b[0m\u001b[1;33m:\u001b[0m\u001b[1;33m\u001b[0m\u001b[1;33m\u001b[0m\u001b[0m\n",
      "\u001b[1;31mTypeError\u001b[0m: 'str' object doesn't support item deletion"
     ]
    }
   ],
   "source": [
    "n=0\n",
    "print(\"Donner une chaine de caractères non vide\")\n",
    "CH=input()\n",
    "print(len(CH))\n",
    "if len(CH)>1:\n",
    "    n=eval(input(\"Donner la position du caractère à supprimer  \",))\n",
    "    del CH[n]\n",
    "    print(\" Veuillez saisir une chaine de caractères non vide svp\")\n",
    "else:\n",
    "    CH.remove('CH[n]')\n",
    "    print(CH[n])"
   ]
  },
  {
   "cell_type": "code",
   "execution_count": null,
   "id": "3ece43c0",
   "metadata": {},
   "outputs": [],
   "source": [
    "import numpy as np\n",
    "n=eval(input(\"Donner un entier \"))\n",
    "m=eval(input(\"Donner un entier \"))\n",
    "for \n",
    "T=np.array"
   ]
  },
  {
   "cell_type": "code",
   "execution_count": 356,
   "id": "bbc16c79",
   "metadata": {},
   "outputs": [
    {
     "name": "stdout",
     "output_type": "stream",
     "text": [
      " Donner un nombre 100\n",
      " Le resultat de l'opération est 18\n"
     ]
    }
   ],
   "source": [
    "from math import*\n",
    "C=50\n",
    "H=30\n",
    "def fct(D):\n",
    "    if (2*C*D)/H-int((2*C*D)/H)>=0.5:\n",
    "        x=int((2*C*D)/H)+1\n",
    "    else:\n",
    "        x=int((2*C*D)/H)\n",
    "    return(int(sqrt(x)))\n",
    "n=eval(input(\" Donner un nombre \", ))\n",
    "print(\" Le resultat de l'opération est\", fct(n))\n"
   ]
  },
  {
   "cell_type": "code",
   "execution_count": null,
   "id": "dff3e017",
   "metadata": {},
   "outputs": [],
   "source": []
  },
  {
   "cell_type": "code",
   "execution_count": null,
   "id": "677a06c9",
   "metadata": {},
   "outputs": [],
   "source": []
  }
 ],
 "metadata": {
  "kernelspec": {
   "display_name": "Python 3",
   "language": "python",
   "name": "python3"
  },
  "language_info": {
   "codemirror_mode": {
    "name": "ipython",
    "version": 3
   },
   "file_extension": ".py",
   "mimetype": "text/x-python",
   "name": "python",
   "nbconvert_exporter": "python",
   "pygments_lexer": "ipython3",
   "version": "3.8.8"
  }
 },
 "nbformat": 4,
 "nbformat_minor": 5
}
